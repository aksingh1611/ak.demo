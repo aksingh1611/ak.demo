{
 "cells": [
  {
   "cell_type": "code",
   "execution_count": 1,
   "id": "2943f6ed",
   "metadata": {
    "_cell_guid": "b1076dfc-b9ad-4769-8c92-a6c4dae69d19",
    "_uuid": "8f2839f25d086af736a60e9eeb907d3b93b6e0e5",
    "execution": {
     "iopub.execute_input": "2023-10-15T18:48:05.677101Z",
     "iopub.status.busy": "2023-10-15T18:48:05.676534Z",
     "iopub.status.idle": "2023-10-15T18:48:06.142401Z",
     "shell.execute_reply": "2023-10-15T18:48:06.141005Z"
    },
    "papermill": {
     "duration": 0.475972,
     "end_time": "2023-10-15T18:48:06.145397",
     "exception": false,
     "start_time": "2023-10-15T18:48:05.669425",
     "status": "completed"
    },
    "tags": []
   },
   "outputs": [
    {
     "name": "stdout",
     "output_type": "stream",
     "text": [
      "/kaggle/input/dietary-impact-on-immune-system/Supply_Food_Data_Descriptions.csv\n",
      "/kaggle/input/dietary-impact-on-immune-system/Fat_Supply_Quantity_Data.csv\n",
      "/kaggle/input/dietary-impact-on-immune-system/Food_Supply_Quantity_kg_Data.csv\n",
      "/kaggle/input/dietary-impact-on-immune-system/Food_Supply_kcal_Data.csv\n",
      "/kaggle/input/dietary-impact-on-immune-system/Protein_Supply_Quantity_Data.csv\n"
     ]
    }
   ],
   "source": [
    "# This Python 3 environment comes with many helpful analytics libraries installed\n",
    "# It is defined by the kaggle/python Docker image: https://github.com/kaggle/docker-python\n",
    "# For example, here's several helpful packages to load\n",
    "\n",
    "import numpy as np # linear algebra\n",
    "import pandas as pd # data processing, CSV file I/O (e.g. pd.read_csv)\n",
    "\n",
    "# Input data files are available in the read-only \"../input/\" directory\n",
    "# For example, running this (by clicking run or pressing Shift+Enter) will list all files under the input directory\n",
    "\n",
    "import os\n",
    "for dirname, _, filenames in os.walk('/kaggle/input'):\n",
    "    for filename in filenames:\n",
    "        print(os.path.join(dirname, filename))\n",
    "\n",
    "# You can write up to 20GB to the current directory (/kaggle/working/) that gets preserved as output when you create a version using \"Save & Run All\" \n",
    "# You can also write temporary files to /kaggle/temp/, but they won't be saved outside of the current session"
   ]
  },
  {
   "cell_type": "code",
   "execution_count": 2,
   "id": "57bc1821",
   "metadata": {
    "execution": {
     "iopub.execute_input": "2023-10-15T18:48:06.156812Z",
     "iopub.status.busy": "2023-10-15T18:48:06.155581Z",
     "iopub.status.idle": "2023-10-15T18:48:06.218066Z",
     "shell.execute_reply": "2023-10-15T18:48:06.216803Z"
    },
    "papermill": {
     "duration": 0.069523,
     "end_time": "2023-10-15T18:48:06.220565",
     "exception": false,
     "start_time": "2023-10-15T18:48:06.151042",
     "status": "completed"
    },
    "tags": []
   },
   "outputs": [
    {
     "data": {
      "text/html": [
       "<div>\n",
       "<style scoped>\n",
       "    .dataframe tbody tr th:only-of-type {\n",
       "        vertical-align: middle;\n",
       "    }\n",
       "\n",
       "    .dataframe tbody tr th {\n",
       "        vertical-align: top;\n",
       "    }\n",
       "\n",
       "    .dataframe thead th {\n",
       "        text-align: right;\n",
       "    }\n",
       "</style>\n",
       "<table border=\"1\" class=\"dataframe\">\n",
       "  <thead>\n",
       "    <tr style=\"text-align: right;\">\n",
       "      <th></th>\n",
       "      <th>Country</th>\n",
       "      <th>Alcoholic Beverages</th>\n",
       "      <th>Animal Products</th>\n",
       "      <th>Animal fats</th>\n",
       "      <th>Aquatic Products, Other</th>\n",
       "      <th>Cereals - Excluding Beer</th>\n",
       "      <th>Eggs</th>\n",
       "      <th>Fish, Seafood</th>\n",
       "      <th>Fruits - Excluding Wine</th>\n",
       "      <th>Meat</th>\n",
       "      <th>...</th>\n",
       "      <th>Vegetable Oils</th>\n",
       "      <th>Vegetables</th>\n",
       "      <th>Obesity</th>\n",
       "      <th>Undernourished</th>\n",
       "      <th>Confirmed</th>\n",
       "      <th>Deaths</th>\n",
       "      <th>Recovered</th>\n",
       "      <th>Active</th>\n",
       "      <th>Population</th>\n",
       "      <th>Unit (all except Population)</th>\n",
       "    </tr>\n",
       "  </thead>\n",
       "  <tbody>\n",
       "    <tr>\n",
       "      <th>0</th>\n",
       "      <td>Afghanistan</td>\n",
       "      <td>0.0</td>\n",
       "      <td>21.6397</td>\n",
       "      <td>6.2224</td>\n",
       "      <td>0.0</td>\n",
       "      <td>8.0353</td>\n",
       "      <td>0.6859</td>\n",
       "      <td>0.0327</td>\n",
       "      <td>0.4246</td>\n",
       "      <td>6.1244</td>\n",
       "      <td>...</td>\n",
       "      <td>17.0831</td>\n",
       "      <td>0.3593</td>\n",
       "      <td>4.5</td>\n",
       "      <td>29.8</td>\n",
       "      <td>0.142134</td>\n",
       "      <td>0.006186</td>\n",
       "      <td>0.123374</td>\n",
       "      <td>0.012574</td>\n",
       "      <td>38928000.0</td>\n",
       "      <td>%</td>\n",
       "    </tr>\n",
       "    <tr>\n",
       "      <th>1</th>\n",
       "      <td>Albania</td>\n",
       "      <td>0.0</td>\n",
       "      <td>32.0002</td>\n",
       "      <td>3.4172</td>\n",
       "      <td>0.0</td>\n",
       "      <td>2.6734</td>\n",
       "      <td>1.6448</td>\n",
       "      <td>0.1445</td>\n",
       "      <td>0.6418</td>\n",
       "      <td>8.7428</td>\n",
       "      <td>...</td>\n",
       "      <td>9.2443</td>\n",
       "      <td>0.6503</td>\n",
       "      <td>22.3</td>\n",
       "      <td>6.2</td>\n",
       "      <td>2.967301</td>\n",
       "      <td>0.050951</td>\n",
       "      <td>1.792636</td>\n",
       "      <td>1.123714</td>\n",
       "      <td>2838000.0</td>\n",
       "      <td>%</td>\n",
       "    </tr>\n",
       "    <tr>\n",
       "      <th>2</th>\n",
       "      <td>Algeria</td>\n",
       "      <td>0.0</td>\n",
       "      <td>14.4175</td>\n",
       "      <td>0.8972</td>\n",
       "      <td>0.0</td>\n",
       "      <td>4.2035</td>\n",
       "      <td>1.2171</td>\n",
       "      <td>0.2008</td>\n",
       "      <td>0.5772</td>\n",
       "      <td>3.8961</td>\n",
       "      <td>...</td>\n",
       "      <td>27.3606</td>\n",
       "      <td>0.5145</td>\n",
       "      <td>26.6</td>\n",
       "      <td>3.9</td>\n",
       "      <td>0.244897</td>\n",
       "      <td>0.006558</td>\n",
       "      <td>0.167572</td>\n",
       "      <td>0.070767</td>\n",
       "      <td>44357000.0</td>\n",
       "      <td>%</td>\n",
       "    </tr>\n",
       "    <tr>\n",
       "      <th>3</th>\n",
       "      <td>Angola</td>\n",
       "      <td>0.0</td>\n",
       "      <td>15.3041</td>\n",
       "      <td>1.3130</td>\n",
       "      <td>0.0</td>\n",
       "      <td>6.5545</td>\n",
       "      <td>0.1539</td>\n",
       "      <td>1.4155</td>\n",
       "      <td>0.3488</td>\n",
       "      <td>11.0268</td>\n",
       "      <td>...</td>\n",
       "      <td>22.4638</td>\n",
       "      <td>0.1231</td>\n",
       "      <td>6.8</td>\n",
       "      <td>25</td>\n",
       "      <td>0.061687</td>\n",
       "      <td>0.001461</td>\n",
       "      <td>0.056808</td>\n",
       "      <td>0.003419</td>\n",
       "      <td>32522000.0</td>\n",
       "      <td>%</td>\n",
       "    </tr>\n",
       "    <tr>\n",
       "      <th>4</th>\n",
       "      <td>Antigua and Barbuda</td>\n",
       "      <td>0.0</td>\n",
       "      <td>27.7033</td>\n",
       "      <td>4.6686</td>\n",
       "      <td>0.0</td>\n",
       "      <td>3.2153</td>\n",
       "      <td>0.3872</td>\n",
       "      <td>1.5263</td>\n",
       "      <td>1.2177</td>\n",
       "      <td>14.3202</td>\n",
       "      <td>...</td>\n",
       "      <td>14.4436</td>\n",
       "      <td>0.2469</td>\n",
       "      <td>19.1</td>\n",
       "      <td>NaN</td>\n",
       "      <td>0.293878</td>\n",
       "      <td>0.007143</td>\n",
       "      <td>0.190816</td>\n",
       "      <td>0.095918</td>\n",
       "      <td>98000.0</td>\n",
       "      <td>%</td>\n",
       "    </tr>\n",
       "  </tbody>\n",
       "</table>\n",
       "<p>5 rows × 32 columns</p>\n",
       "</div>"
      ],
      "text/plain": [
       "               Country  Alcoholic Beverages  Animal Products  Animal fats  \\\n",
       "0          Afghanistan                  0.0          21.6397       6.2224   \n",
       "1              Albania                  0.0          32.0002       3.4172   \n",
       "2              Algeria                  0.0          14.4175       0.8972   \n",
       "3               Angola                  0.0          15.3041       1.3130   \n",
       "4  Antigua and Barbuda                  0.0          27.7033       4.6686   \n",
       "\n",
       "   Aquatic Products, Other  Cereals - Excluding Beer    Eggs  Fish, Seafood  \\\n",
       "0                      0.0                    8.0353  0.6859         0.0327   \n",
       "1                      0.0                    2.6734  1.6448         0.1445   \n",
       "2                      0.0                    4.2035  1.2171         0.2008   \n",
       "3                      0.0                    6.5545  0.1539         1.4155   \n",
       "4                      0.0                    3.2153  0.3872         1.5263   \n",
       "\n",
       "   Fruits - Excluding Wine     Meat  ...  Vegetable Oils  Vegetables  Obesity  \\\n",
       "0                   0.4246   6.1244  ...         17.0831      0.3593      4.5   \n",
       "1                   0.6418   8.7428  ...          9.2443      0.6503     22.3   \n",
       "2                   0.5772   3.8961  ...         27.3606      0.5145     26.6   \n",
       "3                   0.3488  11.0268  ...         22.4638      0.1231      6.8   \n",
       "4                   1.2177  14.3202  ...         14.4436      0.2469     19.1   \n",
       "\n",
       "   Undernourished  Confirmed    Deaths  Recovered    Active  Population  \\\n",
       "0            29.8   0.142134  0.006186   0.123374  0.012574  38928000.0   \n",
       "1             6.2   2.967301  0.050951   1.792636  1.123714   2838000.0   \n",
       "2             3.9   0.244897  0.006558   0.167572  0.070767  44357000.0   \n",
       "3              25   0.061687  0.001461   0.056808  0.003419  32522000.0   \n",
       "4             NaN   0.293878  0.007143   0.190816  0.095918     98000.0   \n",
       "\n",
       "   Unit (all except Population)  \n",
       "0                             %  \n",
       "1                             %  \n",
       "2                             %  \n",
       "3                             %  \n",
       "4                             %  \n",
       "\n",
       "[5 rows x 32 columns]"
      ]
     },
     "execution_count": 2,
     "metadata": {},
     "output_type": "execute_result"
    }
   ],
   "source": [
    "df=pd.read_csv('/kaggle/input/dietary-impact-on-immune-system/Fat_Supply_Quantity_Data.csv')\n",
    "df.head()"
   ]
  },
  {
   "cell_type": "code",
   "execution_count": 3,
   "id": "90f0e6c4",
   "metadata": {
    "execution": {
     "iopub.execute_input": "2023-10-15T18:48:06.228477Z",
     "iopub.status.busy": "2023-10-15T18:48:06.228041Z",
     "iopub.status.idle": "2023-10-15T18:48:06.235303Z",
     "shell.execute_reply": "2023-10-15T18:48:06.233767Z"
    },
    "papermill": {
     "duration": 0.014374,
     "end_time": "2023-10-15T18:48:06.238023",
     "exception": false,
     "start_time": "2023-10-15T18:48:06.223649",
     "status": "completed"
    },
    "tags": []
   },
   "outputs": [
    {
     "data": {
      "text/plain": [
       "(170, 32)"
      ]
     },
     "execution_count": 3,
     "metadata": {},
     "output_type": "execute_result"
    }
   ],
   "source": [
    "df.shape\n",
    "\n"
   ]
  },
  {
   "cell_type": "code",
   "execution_count": 4,
   "id": "74944738",
   "metadata": {
    "execution": {
     "iopub.execute_input": "2023-10-15T18:48:06.246365Z",
     "iopub.status.busy": "2023-10-15T18:48:06.245945Z",
     "iopub.status.idle": "2023-10-15T18:48:06.254202Z",
     "shell.execute_reply": "2023-10-15T18:48:06.252784Z"
    },
    "papermill": {
     "duration": 0.015358,
     "end_time": "2023-10-15T18:48:06.256554",
     "exception": false,
     "start_time": "2023-10-15T18:48:06.241196",
     "status": "completed"
    },
    "tags": []
   },
   "outputs": [
    {
     "data": {
      "text/plain": [
       "Index(['Country', 'Alcoholic Beverages', 'Animal Products', 'Animal fats',\n",
       "       'Aquatic Products, Other', 'Cereals - Excluding Beer', 'Eggs',\n",
       "       'Fish, Seafood', 'Fruits - Excluding Wine', 'Meat', 'Miscellaneous',\n",
       "       'Milk - Excluding Butter', 'Offals', 'Oilcrops', 'Pulses', 'Spices',\n",
       "       'Starchy Roots', 'Stimulants', 'Sugar Crops', 'Sugar & Sweeteners',\n",
       "       'Treenuts', 'Vegetal Products', 'Vegetable Oils', 'Vegetables',\n",
       "       'Obesity', 'Undernourished', 'Confirmed', 'Deaths', 'Recovered',\n",
       "       'Active', 'Population', 'Unit (all except Population)'],\n",
       "      dtype='object')"
      ]
     },
     "execution_count": 4,
     "metadata": {},
     "output_type": "execute_result"
    }
   ],
   "source": [
    "df.columns"
   ]
  },
  {
   "cell_type": "code",
   "execution_count": 5,
   "id": "a81de7bb",
   "metadata": {
    "execution": {
     "iopub.execute_input": "2023-10-15T18:48:06.264822Z",
     "iopub.status.busy": "2023-10-15T18:48:06.264413Z",
     "iopub.status.idle": "2023-10-15T18:48:06.294399Z",
     "shell.execute_reply": "2023-10-15T18:48:06.293120Z"
    },
    "papermill": {
     "duration": 0.037086,
     "end_time": "2023-10-15T18:48:06.296953",
     "exception": false,
     "start_time": "2023-10-15T18:48:06.259867",
     "status": "completed"
    },
    "tags": []
   },
   "outputs": [
    {
     "name": "stdout",
     "output_type": "stream",
     "text": [
      "<class 'pandas.core.frame.DataFrame'>\n",
      "RangeIndex: 170 entries, 0 to 169\n",
      "Data columns (total 32 columns):\n",
      " #   Column                        Non-Null Count  Dtype  \n",
      "---  ------                        --------------  -----  \n",
      " 0   Country                       170 non-null    object \n",
      " 1   Alcoholic Beverages           170 non-null    float64\n",
      " 2   Animal Products               170 non-null    float64\n",
      " 3   Animal fats                   170 non-null    float64\n",
      " 4   Aquatic Products, Other       170 non-null    float64\n",
      " 5   Cereals - Excluding Beer      170 non-null    float64\n",
      " 6   Eggs                          170 non-null    float64\n",
      " 7   Fish, Seafood                 170 non-null    float64\n",
      " 8   Fruits - Excluding Wine       170 non-null    float64\n",
      " 9   Meat                          170 non-null    float64\n",
      " 10  Miscellaneous                 170 non-null    float64\n",
      " 11  Milk - Excluding Butter       170 non-null    float64\n",
      " 12  Offals                        170 non-null    float64\n",
      " 13  Oilcrops                      170 non-null    float64\n",
      " 14  Pulses                        170 non-null    float64\n",
      " 15  Spices                        170 non-null    float64\n",
      " 16  Starchy Roots                 170 non-null    float64\n",
      " 17  Stimulants                    170 non-null    float64\n",
      " 18  Sugar Crops                   170 non-null    float64\n",
      " 19  Sugar & Sweeteners            170 non-null    float64\n",
      " 20  Treenuts                      170 non-null    float64\n",
      " 21  Vegetal Products              170 non-null    float64\n",
      " 22  Vegetable Oils                170 non-null    float64\n",
      " 23  Vegetables                    170 non-null    float64\n",
      " 24  Obesity                       167 non-null    float64\n",
      " 25  Undernourished                163 non-null    object \n",
      " 26  Confirmed                     164 non-null    float64\n",
      " 27  Deaths                        164 non-null    float64\n",
      " 28  Recovered                     164 non-null    float64\n",
      " 29  Active                        162 non-null    float64\n",
      " 30  Population                    170 non-null    float64\n",
      " 31  Unit (all except Population)  170 non-null    object \n",
      "dtypes: float64(29), object(3)\n",
      "memory usage: 42.6+ KB\n"
     ]
    }
   ],
   "source": [
    "df.info()"
   ]
  },
  {
   "cell_type": "code",
   "execution_count": 6,
   "id": "a8add920",
   "metadata": {
    "execution": {
     "iopub.execute_input": "2023-10-15T18:48:06.304990Z",
     "iopub.status.busy": "2023-10-15T18:48:06.304586Z",
     "iopub.status.idle": "2023-10-15T18:48:06.320571Z",
     "shell.execute_reply": "2023-10-15T18:48:06.319250Z"
    },
    "papermill": {
     "duration": 0.022966,
     "end_time": "2023-10-15T18:48:06.323137",
     "exception": false,
     "start_time": "2023-10-15T18:48:06.300171",
     "status": "completed"
    },
    "tags": []
   },
   "outputs": [
    {
     "data": {
      "text/plain": [
       "(170, 32)"
      ]
     },
     "execution_count": 6,
     "metadata": {},
     "output_type": "execute_result"
    }
   ],
   "source": [
    "df.drop_duplicates(inplace=True)\n",
    "df.shape"
   ]
  },
  {
   "cell_type": "code",
   "execution_count": 7,
   "id": "ef142308",
   "metadata": {
    "execution": {
     "iopub.execute_input": "2023-10-15T18:48:06.331916Z",
     "iopub.status.busy": "2023-10-15T18:48:06.330966Z",
     "iopub.status.idle": "2023-10-15T18:48:06.340324Z",
     "shell.execute_reply": "2023-10-15T18:48:06.339135Z"
    },
    "papermill": {
     "duration": 0.016037,
     "end_time": "2023-10-15T18:48:06.342510",
     "exception": false,
     "start_time": "2023-10-15T18:48:06.326473",
     "status": "completed"
    },
    "tags": []
   },
   "outputs": [
    {
     "data": {
      "text/plain": [
       "array([ 4.5, 22.3, 26.6,  6.8, 19.1, 28.5, 20.9, 30.4, 21.9, 19.9, 32.1,\n",
       "        3.4, 24.8, 24.5, 22.4,  8.2, 18.7, 19.4, 16.1, 27.4, 10.6,  3.5,\n",
       "        9.5, 31.3,  6.3,  4.8, 28.8,  6.6, 22.1,  8.4, 25.7,  9. , 27.1,\n",
       "       26.7, 22.6, 21.3, 12.2, 28.2, 26.9, 19.3, 31.1, 22.7, 23.8, 13.5,\n",
       "        3.6, 30. , 24.9, 23.2,  nan, 13.4,  8.7, 23.3,  9.7, 20.2, 18.8,\n",
       "       19.2, 20.5, 28.6, 23.1,  3.8,  6.9, 25.5, 22.9, 24.4,  4.4, 33.4,\n",
       "        6. , 45.6,  7.1,  4.9, 37. , 15.4,  8.6, 28.4, 24.2,  4.7, 15.3,\n",
       "        7.9, 31. , 11.3, 11.5, 19.6, 25.6,  5.7, 15. , 32. , 21.8,  7.8,\n",
       "       23.9, 25. , 22.5, 19. , 20.1, 19.8, 45.5, 35. ,  7.4, 23.5,  7.5,\n",
       "       27. ,  5.4, 26.5, 21.2, 12.6, 10.8,  2.9, 19.7, 27.3, 32.2, 17.5,\n",
       "        4.1, 26.1, 29.9, 29.5, 37.3, 28.9, 25.2,  2.1, 14.1,  6.5, 12.3])"
      ]
     },
     "execution_count": 7,
     "metadata": {},
     "output_type": "execute_result"
    }
   ],
   "source": [
    "df['Obesity'].unique()"
   ]
  },
  {
   "cell_type": "code",
   "execution_count": null,
   "id": "c68f5857",
   "metadata": {
    "papermill": {
     "duration": 0.003087,
     "end_time": "2023-10-15T18:48:06.349271",
     "exception": false,
     "start_time": "2023-10-15T18:48:06.346184",
     "status": "completed"
    },
    "tags": []
   },
   "outputs": [],
   "source": []
  }
 ],
 "metadata": {
  "kernelspec": {
   "display_name": "Python 3",
   "language": "python",
   "name": "python3"
  },
  "language_info": {
   "codemirror_mode": {
    "name": "ipython",
    "version": 3
   },
   "file_extension": ".py",
   "mimetype": "text/x-python",
   "name": "python",
   "nbconvert_exporter": "python",
   "pygments_lexer": "ipython3",
   "version": "3.10.12"
  },
  "papermill": {
   "default_parameters": {},
   "duration": 4.566177,
   "end_time": "2023-10-15T18:48:06.874297",
   "environment_variables": {},
   "exception": null,
   "input_path": "__notebook__.ipynb",
   "output_path": "__notebook__.ipynb",
   "parameters": {},
   "start_time": "2023-10-15T18:48:02.308120",
   "version": "2.4.0"
  }
 },
 "nbformat": 4,
 "nbformat_minor": 5
}
